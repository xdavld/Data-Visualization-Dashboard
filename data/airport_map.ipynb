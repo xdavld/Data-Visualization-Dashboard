{
 "cells": [
  {
   "cell_type": "code",
   "execution_count": 16,
   "metadata": {},
   "outputs": [
    {
     "name": "stdout",
     "output_type": "stream",
     "text": [
      "                DEPARTURE_DELAY  ORIGIN_AIRPORT_LAT  ORIGIN_AIRPORT_LON\n",
      "ORIGIN_AIRPORT                                                         \n",
      "ABE                   -5.000000            40.65236           -75.44040\n",
      "ABQ                   20.588235            35.04022          -106.60919\n",
      "ABR                   -6.500000            45.44906           -98.42183\n",
      "ABY                   -7.000000            31.53552           -84.19447\n",
      "ACT                   32.000000            31.61129           -97.23052\n",
      "                     DESTINATION_DELAY  DESTINATION_AIRPORT_LAT  \\\n",
      "DESTINATION_AIRPORT                                               \n",
      "ABE                          -8.500000                 40.65236   \n",
      "ABQ                          12.823529                 35.04022   \n",
      "ABR                          -9.500000                 45.44906   \n",
      "ABY                         -14.500000                 31.53552   \n",
      "ACT                          60.666667                 31.61129   \n",
      "\n",
      "                     DESTINATION_AIRPORT_LON  \n",
      "DESTINATION_AIRPORT                           \n",
      "ABE                                -75.44040  \n",
      "ABQ                               -106.60919  \n",
      "ABR                                -98.42183  \n",
      "ABY                                -84.19447  \n",
      "ACT                                -97.23052  \n",
      "  AIRPORT  MEAN_DEPARTURE_DELAY  ORIGIN_LAT  ORIGIN_LON  \\\n",
      "0     ABE              0.100000    40.65236   -75.44040   \n",
      "1     ABQ             20.588235    35.04022  -106.60919   \n",
      "2     ABR              0.100000    45.44906   -98.42183   \n",
      "3     ABY              0.100000    31.53552   -84.19447   \n",
      "4     ACT             32.000000    31.61129   -97.23052   \n",
      "\n",
      "   MEAN_DESTINATION_DELAY  DESTINATION_LAT  DESTINATION_LON  \n",
      "0                0.100000         40.65236        -75.44040  \n",
      "1               12.823529         35.04022       -106.60919  \n",
      "2                0.100000         45.44906        -98.42183  \n",
      "3                0.100000         31.53552        -84.19447  \n",
      "4               60.666667         31.61129        -97.23052  \n"
     ]
    }
   ],
   "source": [
    "import pandas as pd\n",
    "\n",
    "df = pd.read_csv('./florian_datensatz.csv')\n",
    "df = df.drop(['YEAR', 'MONTH', 'DAY', 'ORIGIN_AIRPORT_POS', 'DESTINATION_AIRPORT_POS'], axis=1)\n",
    "\n",
    "# Group the data by origin airport and calculate the mean departure delay, latitude and longitude\n",
    "origin_delays = df.groupby('ORIGIN_AIRPORT').agg({'DEPARTURE_DELAY': 'mean', 'ORIGIN_AIRPORT_LAT': 'mean', 'ORIGIN_AIRPORT_LON': 'mean'})\n",
    "print(origin_delays.head())\n",
    "\n",
    "# Group the data by destination airport and calculate the mean destination delay, latitude and longitude\n",
    "destination_delays = df.groupby('DESTINATION_AIRPORT').agg({'DESTINATION_DELAY': 'mean', 'DESTINATION_AIRPORT_LAT': 'mean', 'DESTINATION_AIRPORT_LON': 'mean'})\n",
    "print(destination_delays.head())\n",
    "\n",
    "# Reset the index of both DataFrames\n",
    "origin_delays = origin_delays.reset_index()\n",
    "destination_delays = destination_delays.reset_index()\n",
    "\n",
    "# Rename the columns of both DataFrames\n",
    "origin_delays.columns = ['AIRPORT', 'MEAN_DEPARTURE_DELAY', 'ORIGIN_LAT', 'ORIGIN_LON']\n",
    "destination_delays.columns = ['AIRPORT', 'MEAN_DESTINATION_DELAY', 'DESTINATION_LAT', 'DESTINATION_LON']\n",
    "\n",
    "# Merge the origin_delays and destination_delays DataFrames using an outer join\n",
    "merged_df = pd.merge(origin_delays, destination_delays, on='AIRPORT', how='outer')\n",
    "\n",
    "merged_df.loc[merged_df['MEAN_DEPARTURE_DELAY'] <= 0, 'MEAN_DEPARTURE_DELAY'] = 0.1\n",
    "merged_df.loc[merged_df['MEAN_DESTINATION_DELAY'] <= 0, 'MEAN_DESTINATION_DELAY'] = 0.1\n",
    "\n",
    "print(merged_df.head())\n",
    "\n",
    "\n",
    "merged_df.to_csv('airport_map.csv', index=False)\n"
   ]
  },
  {
   "cell_type": "code",
   "execution_count": null,
   "metadata": {},
   "outputs": [],
   "source": []
  }
 ],
 "metadata": {
  "kernelspec": {
   "display_name": "Python 3",
   "language": "python",
   "name": "python3"
  },
  "language_info": {
   "codemirror_mode": {
    "name": "ipython",
    "version": 3
   },
   "file_extension": ".py",
   "mimetype": "text/x-python",
   "name": "python",
   "nbconvert_exporter": "python",
   "pygments_lexer": "ipython3",
   "version": "3.8.10"
  },
  "orig_nbformat": 4
 },
 "nbformat": 4,
 "nbformat_minor": 2
}
