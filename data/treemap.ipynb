{
 "cells": [
  {
   "cell_type": "code",
   "execution_count": 1,
   "metadata": {},
   "outputs": [
    {
     "name": "stderr",
     "output_type": "stream",
     "text": [
      "/var/folders/w9/cp9skk3x10v4chw5nn5b5dxr0000gn/T/ipykernel_27844/3423047469.py:3: DtypeWarning: Columns (6,7) have mixed types. Specify dtype option on import or set low_memory=False.\n",
      "  df = pd.read_csv('./all_flights_with_lon_and_lat.csv')\n",
      "/var/folders/w9/cp9skk3x10v4chw5nn5b5dxr0000gn/T/ipykernel_27844/3423047469.py:9: FutureWarning: The frame.append method is deprecated and will be removed from pandas in a future version. Use pandas.concat instead.\n",
      "  df = df.append(new_row, ignore_index=True)\n",
      "/var/folders/w9/cp9skk3x10v4chw5nn5b5dxr0000gn/T/ipykernel_27844/3423047469.py:30: FutureWarning: The frame.append method is deprecated and will be removed from pandas in a future version. Use pandas.concat instead.\n",
      "  origin_airport_stats = origin_airport_stats.append(new_row, ignore_index=True)\n",
      "/var/folders/w9/cp9skk3x10v4chw5nn5b5dxr0000gn/T/ipykernel_27844/3423047469.py:41: FutureWarning: The frame.append method is deprecated and will be removed from pandas in a future version. Use pandas.concat instead.\n",
      "  origin_airport_stats = origin_airport_stats.append(airline_stats, ignore_index=True)\n"
     ]
    },
    {
     "name": "stdout",
     "output_type": "stream",
     "text": [
      "     ORIGIN_AIRPORT AIRLINE  FLIGHT_COUNT  AVERAGE_DEPARTURE_DELAY   parents\n",
      "0               ABE      DL           308                 2.912338  Airports\n",
      "1               ABE      EV          1869                 9.765650  Airports\n",
      "2               ABE      OO            50                 3.940000  Airports\n",
      "3               ABI      MQ          2231                 5.747647  Airports\n",
      "4               ABQ      AA          1820                 8.063187  Airports\n",
      "...             ...     ...           ...                      ...       ...\n",
      "2607             OO      OO          1252                 8.488019       XNA\n",
      "2608             AS      AS           650                -6.507692       YAK\n",
      "2609             OO      OO          1854                 1.232470       YUM\n",
      "2610                                    0                      NaN      root\n",
      "2611                                    0                 0.000000  Airports\n",
      "\n",
      "[2612 rows x 5 columns]\n",
      "     DESTINATION_AIRPORT AIRLINE  FLIGHT_COUNT  AVERAGE_ARRIVAL_DELAY  \\\n",
      "0                    ABE      DL           307               3.990228   \n",
      "1                    ABE      EV          1862               6.067669   \n",
      "2                    ABE      OO            51               6.882353   \n",
      "3                    ABI      MQ          2224               4.081385   \n",
      "4                    ABQ      AA          1821               4.414607   \n",
      "...                  ...     ...           ...                    ...   \n",
      "1302                 XNA      OO          1249               5.822258   \n",
      "1303                 YAK      AS           652               0.371166   \n",
      "1304                 YUM      OO          1856               3.259159   \n",
      "1305                 nan                     0                    NaN   \n",
      "1306            Airports                     0               0.000000   \n",
      "\n",
      "       parents  \n",
      "0     Airports  \n",
      "1     Airports  \n",
      "2     Airports  \n",
      "3     Airports  \n",
      "4     Airports  \n",
      "...        ...  \n",
      "1302  Airports  \n",
      "1303  Airports  \n",
      "1304  Airports  \n",
      "1305  Airports  \n",
      "1306  Airports  \n",
      "\n",
      "[1307 rows x 5 columns]\n"
     ]
    },
    {
     "name": "stderr",
     "output_type": "stream",
     "text": [
      "/var/folders/w9/cp9skk3x10v4chw5nn5b5dxr0000gn/T/ipykernel_27844/3423047469.py:51: FutureWarning: The frame.append method is deprecated and will be removed from pandas in a future version. Use pandas.concat instead.\n",
      "  destination_airport_stats = destination_airport_stats.append(new_row, ignore_index=True)\n"
     ]
    }
   ],
   "source": [
    "import pandas as pd\n",
    "\n",
    "df = pd.read_csv('./all_flights_with_lon_and_lat.csv')\n",
    "\n",
    "# Parents Spalte erzeugen für das Dataframe\n",
    "new_row = pd.Series({\"ORIGIN_AIRPORT\": \"root\", \"AIRLINE\": \"\", \"FLIGHT_COUNT\": 0, \"parents\": \"\"})\n",
    "\n",
    "# Append the new row to the DataFrame\n",
    "df = df.append(new_row, ignore_index=True)\n",
    "\n",
    "# Gruppieren nach Origin Airport und Airline und berechnen der Anzahl der Flüge und der durchschnittlichen Abflugsverspätung\n",
    "origin_airport_stats = df.groupby(['ORIGIN_AIRPORT', 'AIRLINE']).agg({'FLIGHT_NUMBER': 'count', 'DEPARTURE_DELAY': 'mean'}).reset_index()\n",
    "origin_airport_stats.columns = ['ORIGIN_AIRPORT', 'AIRLINE', 'FLIGHT_COUNT', 'AVERAGE_DEPARTURE_DELAY']\n",
    "\n",
    "# Treemap benötigt eine Spalte mit dem Namen \"parents\" für die Hierarchie\n",
    "new_row = pd.Series({\"ORIGIN_AIRPORT\": \"Airports\", \"AIRLINE\": \"\", \"FLIGHT_COUNT\": 0, \"AVERAGE_DEPARTURE_DELAY\": 0})\n",
    "origin_airport_stats = origin_airport_stats.append(new_row, ignore_index=True)\n",
    "\n",
    "# Airports als Elternknoten für die Airlines\n",
    "origin_airport_stats[\"parents\"] = \"Airports\"\n",
    "\n",
    "# Gruppieren nach Destination Airport und Airline und berechnen der Anzahl der Flüge und der durchschnittlichen Abflugsverspätung\n",
    "destination_airport_stats = df.groupby(['DESTINATION_AIRPORT', 'AIRLINE']).agg({'FLIGHT_NUMBER': 'count', 'ARRIVAL_DELAY': 'mean'}).reset_index()\n",
    "destination_airport_stats.columns = ['DESTINATION_AIRPORT', 'AIRLINE', 'FLIGHT_COUNT', 'AVERAGE_ARRIVAL_DELAY']\n",
    "\n",
    "# Airports als Elternknoten für die Airlines\n",
    "new_row = pd.Series({\"DESTINATION_AIRPORT\": \"Airports\", \"AIRLINE\": \"\", \"FLIGHT_COUNT\": 0, \"AVERAGE_ARRIVAL_DELAY\": 0})\n",
    "\n",
    "# Airports als Elternknoten für die Airlines\n",
    "destination_airport_stats = destination_airport_stats.append(new_row, ignore_index=True)\n",
    "destination_airport_stats[\"parents\"] = \"Airports\"\n",
    "\n",
    "# Display the results\n",
    "print(origin_airport_stats)\n",
    "print(destination_airport_stats)"
   ]
  },
  {
   "cell_type": "code",
   "execution_count": 2,
   "metadata": {},
   "outputs": [],
   "source": [
    "origin_airport_stats.shape\n",
    "origin_airport_stats.to_csv('./treemap_origin_stats.csv')\n",
    "destination_airport_stats.shape\n",
    "destination_airport_stats.to_csv('./treemap_destination_stats.csv')"
   ]
  }
 ],
 "metadata": {
  "kernelspec": {
   "display_name": "Python 3",
   "language": "python",
   "name": "python3"
  },
  "language_info": {
   "codemirror_mode": {
    "name": "ipython",
    "version": 3
   },
   "file_extension": ".py",
   "mimetype": "text/x-python",
   "name": "python",
   "nbconvert_exporter": "python",
   "pygments_lexer": "ipython3",
   "version": "3.8.10"
  },
  "orig_nbformat": 4
 },
 "nbformat": 4,
 "nbformat_minor": 2
}
