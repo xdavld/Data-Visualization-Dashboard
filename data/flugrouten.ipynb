{
 "cells": [
  {
   "cell_type": "code",
   "execution_count": 4,
   "metadata": {},
   "outputs": [
    {
     "name": "stdout",
     "output_type": "stream",
     "text": [
      "   Unnamed: 0 AIRLINE ORIGIN_AIRPORT DESTINATION_AIRPORT  ORIGIN_AIRPORT_LAT  \\\n",
      "0           0      AS            ANC                 SEA            61.17432   \n",
      "1           1      AA            LAX                 PBI            33.94254   \n",
      "2           2      US            SFO                 CLT            37.61900   \n",
      "3           3      AA            LAX                 MIA            33.94254   \n",
      "4           4      AS            SEA                 ANC            47.44898   \n",
      "\n",
      "   ORIGIN_AIRPORT_LON  DESTINATION_AIRPORT_LAT  DESTINATION_AIRPORT_LON  \n",
      "0          -149.99619                 47.44898               -122.30931  \n",
      "1          -118.40807                 26.68316                -80.09559  \n",
      "2          -122.37484                 35.21401                -80.94313  \n",
      "3          -118.40807                 25.79325                -80.29056  \n",
      "4          -122.30931                 61.17432               -149.99619  \n"
     ]
    }
   ],
   "source": [
    "import pandas as pd\n",
    "\n",
    "df = pd.read_csv('./florian_datensatz.csv')\n",
    "df = df.drop(['YEAR', 'MONTH', 'DAY', 'ORIGIN_AIRPORT_POS', 'DESTINATION_AIRPORT_POS', 'FLIGHT_NUMBER', 'SCHEDULED_DEPARTURE','DEPARTURE_DELAY','SCHEDULED_TIME','ELAPSED_TIME','DISTANCE', 'SCHEDULED_DESTINATION','DESTINATION_DELAY'], axis=1)\n",
    "df = df.drop_duplicates(subset=[\"ORIGIN_AIRPORT\", \"DESTINATION_AIRPORT\"])\n",
    "\n",
    "\n",
    "print (df.head())\n",
    "\n",
    "df.to_csv('flugrouten.csv', index=False)"
   ]
  },
  {
   "cell_type": "code",
   "execution_count": 5,
   "metadata": {},
   "outputs": [
    {
     "name": "stdout",
     "output_type": "stream",
     "text": [
      "['AS' 'AA' 'US' 'DL' 'NK' 'UA' 'HA' 'B6' 'OO' 'EV' 'F9' 'WN' 'MQ' 'VX']\n"
     ]
    }
   ],
   "source": [
    "import pandas as pd\n",
    "\n",
    "df = pd.read_csv('./florian_datensatz.csv')\n",
    "unique_airlines = df[\"AIRLINE\"].unique()\n",
    "\n",
    "print (unique_airlines)"
   ]
  }
 ],
 "metadata": {
  "kernelspec": {
   "display_name": "Python 3",
   "language": "python",
   "name": "python3"
  },
  "language_info": {
   "codemirror_mode": {
    "name": "ipython",
    "version": 3
   },
   "file_extension": ".py",
   "mimetype": "text/x-python",
   "name": "python",
   "nbconvert_exporter": "python",
   "pygments_lexer": "ipython3",
   "version": "3.8.10"
  },
  "orig_nbformat": 4
 },
 "nbformat": 4,
 "nbformat_minor": 2
}
