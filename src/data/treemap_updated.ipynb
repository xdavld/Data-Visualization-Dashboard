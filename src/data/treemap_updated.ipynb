{
 "cells": [
  {
   "cell_type": "code",
   "execution_count": 12,
   "metadata": {},
   "outputs": [],
   "source": [
    "import pandas as pd\n",
    "\n",
    "# Load the original CSV file into a DataFrame\n",
    "df = pd.read_csv('https://gist.githubusercontent.com/xdavld/7e5231fa7930ac28a0db4d26c92eac01/raw/49fcfa87d7f559116bfb43698c697cd5b0604aa4/treemap_origin_stats.csv')\n",
    "\n",
    "# Calculate the total number of flights for each airline\n",
    "total_flights = df.groupby('AIRLINE')['FLIGHT_COUNT'].sum().reset_index()\n",
    "total_flights.columns = ['AIRLINE', 'TOTAL_FLIGHTS']\n",
    "df['parents2'] = 'Airlines'\n",
    "\n",
    "\n",
    "# Merge the total flights data into the original DataFrame\n",
    "df = pd.merge(df, total_flights, on='AIRLINE', how='left')\n",
    "\n",
    "# Save the updated DataFrame to a new CSV file\n",
    "df.to_csv('treemap_origin_updated.csv', index=False)\n",
    "\n",
    "\n",
    "\n"
   ]
  }
 ],
 "metadata": {
  "kernelspec": {
   "display_name": "Python 3",
   "language": "python",
   "name": "python3"
  },
  "language_info": {
   "codemirror_mode": {
    "name": "ipython",
    "version": 3
   },
   "file_extension": ".py",
   "mimetype": "text/x-python",
   "name": "python",
   "nbconvert_exporter": "python",
   "pygments_lexer": "ipython3",
   "version": "3.8.10"
  },
  "orig_nbformat": 4
 },
 "nbformat": 4,
 "nbformat_minor": 2
}
