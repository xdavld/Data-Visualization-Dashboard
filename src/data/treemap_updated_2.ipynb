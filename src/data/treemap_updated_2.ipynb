{
 "cells": [
  {
   "cell_type": "code",
   "execution_count": 4,
   "metadata": {},
   "outputs": [],
   "source": [
    "import pandas as pd\n",
    "\n",
    "# Load the first CSV file\n",
    "df1 = pd.read_csv('./treemap_origin_updated.csv')\n",
    "\n",
    "# Load the second CSV file\n",
    "df2 = pd.read_csv('./treemap_destination_stats.csv')\n",
    "\n",
    "# Merge the two dataframes on the 'AIRLINE' column\n",
    "merged_df = pd.merge(df1, df2, on='AIRLINE', suffixes=('', '_y'))\n",
    "\n",
    "# Rename the 'parents' column to 'ORIGIN_AIRPORT'\n",
    "merged_df = merged_df.rename(columns={'parents': 'ORIGIN_AIRPORT'})\n",
    "\n",
    "# Rename the 'parents2' column to 'DESTINATION_AIRPORT'\n",
    "merged_df = merged_df.rename(columns={'parents2': 'DESTINATION_AIRPORT'})\n",
    "\n",
    "# Keep only rows where either 'FLIGHT_COUNT_ORIGIN' or 'FLIGHT_COUNT_DESTINATION' is among the 30 largest values\n",
    "merged_df = merged_df[merged_df['FLIGHT_COUNT_ORIGIN'].isin(merged_df['FLIGHT_COUNT_ORIGIN'].nlargest(30)) | merged_df['FLIGHT_COUNT_DESTINATION'].isin(merged_df['FLIGHT_COUNT_DESTINATION'].nlargest(30))]\n",
    "\n",
    "merged_df.to_csv('treemap_origin_destination_stats.csv', index=False)\n"
   ]
  },
  {
   "cell_type": "code",
   "execution_count": 6,
   "metadata": {},
   "outputs": [],
   "source": [
    "import pandas as pd\n",
    "\n",
    "# Load the CSV file\n",
    "df = pd.read_csv('treemap_origin_destination_stats.csv')\n",
    "\n",
    "# Drop the 'parents' and 'TOTAL_FLIGHTS' columns\n",
    "df = df.drop(['parents', 'TOTAL_FLIGHTS'], axis=1)\n",
    "\n",
    "# Rename all rows in the 'parents_origin' column to 'Origin Airports'\n",
    "df['parents_origin'] = 'Origin Airports'\n",
    "\n",
    "# Rename all rows in the 'parents_destination' column to 'Destination Airports'\n",
    "df['parents_destination'] = 'Destination Airports'\n",
    "\n",
    "# Save the modified dataframe to a new CSV file\n",
    "df.to_csv('treemap_origin_destination_stats_finished.csv', index=False)\n"
   ]
  },
  {
   "cell_type": "code",
   "execution_count": 7,
   "metadata": {},
   "outputs": [],
   "source": [
    "import pandas as pd\n",
    "\n",
    "# Load the CSV file\n",
    "df = pd.read_csv('treemap_origin_stats.csv')\n",
    "\n",
    "df['parents_origin'] = 'Origin Airports'\n",
    "\n",
    "# Keep only the 30 largest values in the 'FLIGHT_COUNT' column\n",
    "df = df.nlargest(30, 'FLIGHT_COUNT')\n",
    "\n",
    "# Save the modified dataframe to a new CSV file\n",
    "df.to_csv('treemap_origin_finished', index=False)\n"
   ]
  },
  {
   "cell_type": "code",
   "execution_count": 2,
   "metadata": {},
   "outputs": [],
   "source": [
    "import pandas as pd\n",
    "\n",
    "# Load the CSV file\n",
    "df = pd.read_csv('treemap_destination_stats.csv')\n",
    "\n",
    "df['parents_destination'] = 'Destination Airports'\n",
    "\n",
    "# Keep only the 30 largest values in the 'FLIGHT_COUNT' column\n",
    "df = df.nlargest(30, 'FLIGHT_COUNT_DESTINATION')\n",
    "\n",
    "# Save the modified dataframe to a new CSV file\n",
    "df.to_csv('treemap_destination_finished', index=False)"
   ]
  }
 ],
 "metadata": {
  "kernelspec": {
   "display_name": "Python 3",
   "language": "python",
   "name": "python3"
  },
  "language_info": {
   "codemirror_mode": {
    "name": "ipython",
    "version": 3
   },
   "file_extension": ".py",
   "mimetype": "text/x-python",
   "name": "python",
   "nbconvert_exporter": "python",
   "pygments_lexer": "ipython3",
   "version": "3.8.10"
  },
  "orig_nbformat": 4
 },
 "nbformat": 4,
 "nbformat_minor": 2
}
