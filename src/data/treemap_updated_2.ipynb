{
 "cells": [
  {
   "cell_type": "code",
   "execution_count": 4,
   "metadata": {},
   "outputs": [],
   "source": [
    "import pandas as pd\n",
    "\n",
    "# CSV laden\n",
    "df1 = pd.read_csv('./treemap_origin_updated.csv')\n",
    "df2 = pd.read_csv('./treemap_destination_stats.csv')\n",
    "\n",
    "# Zusammenführen der beiden Dataframes\n",
    "merged_df = pd.merge(df1, df2, on='AIRLINE')\n",
    "\n",
    "# Elternknoten umbennenen\n",
    "merged_df = merged_df.rename(columns={'parents': 'ORIGIN_AIRPORT'})\n",
    "merged_df = merged_df.rename(columns={'parents2': 'DESTINATION_AIRPORT'})\n",
    "\n",
    "merged_df.to_csv('treemap_origin_destination_stats.csv', index=False)\n"
   ]
  },
  {
   "cell_type": "code",
   "execution_count": 7,
   "metadata": {},
   "outputs": [],
   "source": [
    "import pandas as pd\n",
    "df = pd.read_csv('treemap_origin_stats.csv')\n",
    "\n",
    "df['parents_origin'] = 'Origin Airports'\n",
    "\n",
    "# Nur die 30 Flughäfen mit den meisten Flügen behalten\n",
    "df = df.nlargest(30, 'FLIGHT_COUNT')\n",
    "df.to_csv('treemap_origin_finished', index=False)\n"
   ]
  },
  {
   "cell_type": "code",
   "execution_count": 2,
   "metadata": {},
   "outputs": [],
   "source": [
    "import pandas as pd\n",
    "\n",
    "# Load the CSV file\n",
    "df = pd.read_csv('treemap_destination_stats.csv')\n",
    "\n",
    "df['parents_destination'] = 'Destination Airports'\n",
    "\n",
    "# Nur die 30 Flughäfen mit den meisten Flügen behalten\n",
    "df = df.nlargest(30, 'FLIGHT_COUNT_DESTINATION')\n",
    "df.to_csv('treemap_destination_finished', index=False)"
   ]
  }
 ],
 "metadata": {
  "kernelspec": {
   "display_name": "Python 3",
   "language": "python",
   "name": "python3"
  },
  "language_info": {
   "codemirror_mode": {
    "name": "ipython",
    "version": 3
   },
   "file_extension": ".py",
   "mimetype": "text/x-python",
   "name": "python",
   "nbconvert_exporter": "python",
   "pygments_lexer": "ipython3",
   "version": "3.8.10"
  },
  "orig_nbformat": 4
 },
 "nbformat": 4,
 "nbformat_minor": 2
}
