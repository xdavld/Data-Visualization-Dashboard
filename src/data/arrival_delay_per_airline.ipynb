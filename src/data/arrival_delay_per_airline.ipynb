{
 "cells": [
  {
   "cell_type": "code",
   "execution_count": 17,
   "metadata": {},
   "outputs": [
    {
     "name": "stderr",
     "output_type": "stream",
     "text": [
      "/var/folders/w9/cp9skk3x10v4chw5nn5b5dxr0000gn/T/ipykernel_4362/594333222.py:3: DtypeWarning: Columns (6,7) have mixed types. Specify dtype option on import or set low_memory=False.\n",
      "  df = pd.read_csv('./all_flights_with_lon_and_lat.csv')\n"
     ]
    }
   ],
   "source": [
    "#Verspätung pro Airline\n",
    "import pandas as pd\n",
    "\n",
    "df = pd.read_csv('./all_flights_with_lon_and_lat.csv')\n",
    "\n",
    "arrival_delay = df[['AIRLINE', 'ARRIVAL_DELAY']].iloc[:13447]\n",
    "filtered_data = arrival_delay[arrival_delay['ARRIVAL_DELAY'] > 0]\n",
    "\n",
    "mean_arrival_delay = filtered_data.groupby('AIRLINE')['ARRIVAL_DELAY'].mean().sort_values(ascending=False)\n",
    "\n",
    "arrival_delay.head(100)\n",
    "\n",
    "arrival_delay.shape\n",
    "arrival_delay.to_csv('./arrival_delay_boxplot.csv')"
   ]
  }
 ],
 "metadata": {
  "kernelspec": {
   "display_name": "Python 3",
   "language": "python",
   "name": "python3"
  },
  "language_info": {
   "codemirror_mode": {
    "name": "ipython",
    "version": 3
   },
   "file_extension": ".py",
   "mimetype": "text/x-python",
   "name": "python",
   "nbconvert_exporter": "python",
   "pygments_lexer": "ipython3",
   "version": "3.8.10"
  },
  "orig_nbformat": 4
 },
 "nbformat": 4,
 "nbformat_minor": 2
}
